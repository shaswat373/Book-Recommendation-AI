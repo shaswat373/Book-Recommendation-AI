{
  "nbformat": 4,
  "nbformat_minor": 0,
  "metadata": {
    "colab": {
      "provenance": []
    },
    "kernelspec": {
      "name": "python3",
      "display_name": "Python 3"
    },
    "language_info": {
      "name": "python"
    }
  },
  "cells": [
    {
      "cell_type": "markdown",
      "source": [
        "### 📘 Example Prompts (Try one of these book titles):\n",
        "- The Da Vinci Code  \n",
        "- Wild Animus  \n",
        "- The Lovely Bones: A Novel  \n",
        "- The Red Tent  \n",
        "- A Time to Kill\n"
      ],
      "metadata": {
        "id": "u98TSAlrcRoM"
      }
    },
    {
      "cell_type": "code",
      "source": [
        "import pandas as pd\n",
        "from sklearn.metrics.pairwise import cosine_similarity\n",
        "from scipy.sparse import csr_matrix\n",
        "import zipfile\n",
        "import urllib.request\n",
        "import os\n",
        "\n",
        "# downloading and extracting dataset\n",
        "data_url = \"https://github.com/shaswat373/Book-Recommendation-AI/raw/main/data.zip\"\n",
        "data_zip_path = \"data.zip\"\n",
        "\n",
        "if not os.path.exists(data_zip_path):\n",
        "    print(\"Downloading dataset...\")\n",
        "    urllib.request.urlretrieve(data_url, data_zip_path)\n",
        "    print(\"Dataset downloaded.\")\n",
        "\n",
        "with zipfile.ZipFile(data_zip_path, 'r') as zip_ref:\n",
        "    zip_ref.extractall()\n",
        "\n",
        "books_df = pd.read_csv(\"Books.csv\", low_memory=False)\n",
        "ratings_df = pd.read_csv(\"Ratings.csv\", low_memory=False)\n",
        "\n",
        "book_counts = ratings_df['ISBN'].value_counts()\n",
        "valid_books = book_counts[book_counts >= 30].index\n",
        "ratings_df = ratings_df[ratings_df['ISBN'].isin(valid_books)]\n",
        "\n",
        "book_user_matrix = ratings_df.pivot_table(\n",
        "    index='ISBN', columns='User-ID', values='Book-Rating'\n",
        ").fillna(0)\n",
        "\n",
        "book_user_sparse = csr_matrix(book_user_matrix.values)\n",
        "similarity_matrix = cosine_similarity(book_user_sparse)\n",
        "isbn_list = book_user_matrix.index.tolist()\n",
        "isbn_to_title = books_df.set_index('ISBN')['Book-Title'].to_dict()\n",
        "\n",
        "def recommend_books(book_title, top_n=5):\n",
        "    matching_books = books_df[books_df['Book-Title'].str.lower() == book_title.lower()]\n",
        "\n",
        "    if matching_books.empty:\n",
        "        return f\"Sorry, no book found with the title '{book_title}'. Please check the spelling.\"\n",
        "\n",
        "    target_isbn = matching_books.iloc[0]['ISBN']\n",
        "\n",
        "    if target_isbn not in isbn_list:\n",
        "        return f\"We found the book '{book_title}', but it does not have enough rating data to generate recommendations.\"\n",
        "\n",
        "    idx = isbn_list.index(target_isbn)\n",
        "    similarity_scores = list(enumerate(similarity_matrix[idx]))\n",
        "    similarity_scores = sorted(similarity_scores, key=lambda x: x[1], reverse=True)[1:top_n+1]\n",
        "\n",
        "    recommended_books = []\n",
        "    for i, score in similarity_scores:\n",
        "        isbn = isbn_list[i]\n",
        "        title = isbn_to_title.get(isbn, \"Unknown Title\")\n",
        "        recommended_books.append((title, round(float(score), 3)))\n",
        "\n",
        "    return recommended_books\n",
        "\n",
        "book_title = input(\"Enter a book title you like: \")\n",
        "\n",
        "results = recommend_books(book_title)\n",
        "\n",
        "if isinstance(results, str):\n",
        "    print(results)\n",
        "else:\n",
        "    print(f\"\\nIf you liked '{book_title}', you might also enjoy:\\n\")\n",
        "    for i, (title, score) in enumerate(results, 1):\n",
        "        print(f\"{i}. {title}\")\n"
      ],
      "metadata": {
        "id": "dfgmsNWQdFqL"
      },
      "execution_count": null,
      "outputs": []
    }
  ]
}